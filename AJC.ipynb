{
 "cells": [
  {
   "cell_type": "markdown",
   "metadata": {},
   "source": [
    "## Aujourd'hui je code - TV Shows\n",
    "\n",
    "Bienvenue dans le monde du SQL, ensemble nous allons explorer les séries TV!\n",
    "\n",
    "Comment faire?\n",
    "- Chaque case représente une requête à écrire (soit une réponse à une question)\n",
    "- Modifie uniquement la requête, pas ce qu'il y a autour\n",
    "- Quelques requêtes sont à compléter, les parties manquantes sont signalées par ?? \n",
    "- En cas d'erreur, cherche la raison dans le message affiché \n",
    "- Pour exécuter une requête : CTRL + Entrée "
   ]
  },
  {
   "cell_type": "markdown",
   "metadata": {},
   "source": [
    "## Configuration\n",
    "Exécute ces commandes (CTRL + Entrée)\n",
    "\n",
    "Elles permettent de charger les données que nous allons utiliser"
   ]
  },
  {
   "cell_type": "code",
   "execution_count": null,
   "metadata": {},
   "outputs": [],
   "source": [
    "import pandas as p\n",
    "import sqlite3\n",
    "from IPython.display import display\n",
    "\n",
    "#Connection à la base de données\n",
    "conn = sqlite3.connect(\"tv_shows - Nov 2019.db\")\n",
    "\n",
    "def execute_requete(r):\n",
    "    try:\n",
    "        display(p.read_sql(r, conn))\n",
    "    except p.io.sql.DatabaseError as e:\n",
    "        print(e)"
   ]
  },
  {
   "cell_type": "markdown",
   "metadata": {},
   "source": [
    "## Prise en main\n",
    "Quelques requêtes simples pour prendre les choses en main"
   ]
  },
  {
   "cell_type": "markdown",
   "metadata": {},
   "source": [
    "#### Requête 1 : Affiche tout le contenu de la table tv_shows"
   ]
  },
  {
   "cell_type": "code",
   "execution_count": null,
   "metadata": {},
   "outputs": [],
   "source": [
    "execute_requete(\"\"\"\n",
    "\n",
    "SELECT \n",
    "   ??\n",
    "FROM tv_shows\n",
    "    \n",
    "    \"\"\")"
   ]
  },
  {
   "cell_type": "markdown",
   "metadata": {},
   "source": [
    "#### Requête 2 : Affiche le titre de toutes les séries et épisodes"
   ]
  },
  {
   "cell_type": "code",
   "execution_count": null,
   "metadata": {},
   "outputs": [],
   "source": [
    "execute_requete(\"\"\"\n",
    "\n",
    "SELECT \n",
    "    ??\n",
    "FROM ??\n",
    "    \n",
    "    \"\"\")"
   ]
  },
  {
   "cell_type": "markdown",
   "metadata": {},
   "source": [
    "#### Requête 3 : Affiche uniquement le titre des séries différentes et leur résumé"
   ]
  },
  {
   "cell_type": "code",
   "execution_count": null,
   "metadata": {},
   "outputs": [],
   "source": [
    "execute_requete(\"\"\"\n",
    "\n",
    "SELECT DISTINCT\n",
    "??\n",
    "    \n",
    "    \"\"\")"
   ]
  },
  {
   "cell_type": "markdown",
   "metadata": {},
   "source": [
    "#### Requête 4 : Affiche le titre et le genre des séries commencées en 2017 (première diffusion)"
   ]
  },
  {
   "cell_type": "code",
   "execution_count": null,
   "metadata": {},
   "outputs": [],
   "source": [
    "execute_requete(\"\"\"\n",
    "\n",
    "SELECT DISTINCT\n",
    "    ??\n",
    "FROM ??\n",
    "WHERE annee_premiere_diffusion_serie = ??\n",
    "    \n",
    "    \"\"\")"
   ]
  },
  {
   "cell_type": "markdown",
   "metadata": {},
   "source": [
    "#### Requête 5 : Affiche le titre des séries, le titre des épisodes et la note des épisodes qui durent moins de 40 minutes (<=) et on une note supérieure à 8.5"
   ]
  },
  {
   "cell_type": "code",
   "execution_count": null,
   "metadata": {},
   "outputs": [],
   "source": [
    "execute_requete(\"\"\"\n",
    "\n",
    "SELECT\n",
    "    ??\n",
    "FROM ??\n",
    "WHERE ??\n",
    "    \n",
    "    \"\"\")"
   ]
  },
  {
   "cell_type": "markdown",
   "metadata": {},
   "source": [
    "#### Requête 6 : Affiche les épisodes (titre de l'épisode, titre de la série, durée et note des épisodes) triés par durée décroissante, ajoute LIMIT 10 pour avoir le top 10"
   ]
  },
  {
   "cell_type": "code",
   "execution_count": null,
   "metadata": {},
   "outputs": [],
   "source": [
    "execute_requete(\"\"\"\n",
    "\n",
    "SELECT\n",
    "    ??\n",
    "FROM ??\n",
    "ORDER BY ?? DESC\n",
    "LIMIT ??\n",
    "    \n",
    "    \"\"\")"
   ]
  },
  {
   "cell_type": "markdown",
   "metadata": {},
   "source": [
    "#### Requête 7 : Affiche la somme des durées des épisodes par séries (= le temps total de la série)"
   ]
  },
  {
   "cell_type": "code",
   "execution_count": null,
   "metadata": {},
   "outputs": [],
   "source": [
    "execute_requete(\"\"\"\n",
    "\n",
    "SELECT\n",
    "    titre_serie,\n",
    "    sum(??)\n",
    "FROM ??\n",
    "GROUP BY ??\n",
    "    \n",
    "    \"\"\")"
   ]
  },
  {
   "cell_type": "markdown",
   "metadata": {},
   "source": [
    "#### Requête 8 : Affiche la note moyenne de chaque série et classe les par ordre décroissant"
   ]
  },
  {
   "cell_type": "code",
   "execution_count": null,
   "metadata": {},
   "outputs": [],
   "source": [
    "execute_requete(\"\"\"\n",
    "\n",
    "SELECT\n",
    "    ??,\n",
    "    avg(??) as n\n",
    "FROM ??\n",
    "GROUP BY ??\n",
    "ORDER BY n ??\n",
    "    \n",
    "    \"\"\")"
   ]
  },
  {
   "cell_type": "markdown",
   "metadata": {},
   "source": [
    "## Un petit peu plus difficile"
   ]
  },
  {
   "cell_type": "markdown",
   "metadata": {},
   "source": [
    "#### Question 9 : Quel épisode de la saison 2 de Riverdale a la meilleure note ?"
   ]
  },
  {
   "cell_type": "code",
   "execution_count": null,
   "metadata": {},
   "outputs": [],
   "source": [
    "execute_requete(\"\"\"\n",
    "\n",
    "??\n",
    "    \n",
    "    \"\"\")"
   ]
  },
  {
   "cell_type": "markdown",
   "metadata": {},
   "source": [
    "#### Question 10 : Combien y a t'il de série(s) anglaise(s) ? (pays = 'gb')"
   ]
  },
  {
   "cell_type": "code",
   "execution_count": null,
   "metadata": {},
   "outputs": [],
   "source": [
    "execute_requete(\"\"\"\n",
    "\n",
    "??\n",
    "    \n",
    "    \"\"\")"
   ]
  },
  {
   "cell_type": "markdown",
   "metadata": {},
   "source": [
    "#### Question 11 : Combien de jours faut-il pour regarder tous les épisodes de Game of Thrones ?"
   ]
  },
  {
   "cell_type": "code",
   "execution_count": null,
   "metadata": {},
   "outputs": [],
   "source": [
    "execute_requete(\"\"\"\n",
    "\n",
    "??\n",
    "    \n",
    "    \"\"\")"
   ]
  },
  {
   "cell_type": "markdown",
   "metadata": {},
   "source": [
    "#### Question 12 : Quand a été diffusé l'épisode de The Flash qui a eu la meilleure note ?"
   ]
  },
  {
   "cell_type": "code",
   "execution_count": null,
   "metadata": {},
   "outputs": [],
   "source": [
    "execute_requete(\"\"\"\n",
    "\n",
    "??\n",
    "    \n",
    "    \"\"\")"
   ]
  },
  {
   "cell_type": "markdown",
   "metadata": {},
   "source": [
    "#### Question 13 : Combien de saisons de la série Friends ont été diffusées ?"
   ]
  },
  {
   "cell_type": "code",
   "execution_count": null,
   "metadata": {},
   "outputs": [],
   "source": [
    "execute_requete(\"\"\"\n",
    "\n",
    "??\n",
    "    \n",
    "    \"\"\")"
   ]
  },
  {
   "cell_type": "markdown",
   "metadata": {},
   "source": [
    "#### Question 14 : Quelle série a le plus grand écart de note? (différence entre la note minimale et maximale des épisodes)"
   ]
  },
  {
   "cell_type": "code",
   "execution_count": null,
   "metadata": {},
   "outputs": [],
   "source": [
    "execute_requete(\"\"\"\n",
    "\n",
    "??\n",
    "   \n",
    "    \"\"\")"
   ]
  },
  {
   "cell_type": "markdown",
   "metadata": {},
   "source": [
    "#### Question 15 : Classe les épisodes de ta série préférée par ordre décroissant de note"
   ]
  },
  {
   "cell_type": "code",
   "execution_count": null,
   "metadata": {},
   "outputs": [],
   "source": [
    "execute_requete(\"\"\"\n",
    "\n",
    "??\n",
    "   \n",
    "    \"\"\")"
   ]
  }
 ],
 "metadata": {
  "kernelspec": {
   "display_name": "Python 3",
   "language": "python",
   "name": "python3"
  },
  "language_info": {
   "codemirror_mode": {
    "name": "ipython",
    "version": 3
   },
   "file_extension": ".py",
   "mimetype": "text/x-python",
   "name": "python",
   "nbconvert_exporter": "python",
   "pygments_lexer": "ipython3",
   "version": "3.6.5"
  }
 },
 "nbformat": 4,
 "nbformat_minor": 2
}
