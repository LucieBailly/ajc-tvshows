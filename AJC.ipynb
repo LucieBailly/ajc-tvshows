{
 "cells": [
  {
   "cell_type": "markdown",
   "metadata": {},
   "source": [
    "## Aujourd'hui je code - TV Shows\n",
    "\n",
    "Bienvenue dans le monde du SQL, ensemble nous allons explorer les séries TV!\n",
    "\n",
    "Comment faire?\n",
    "- Chaque case représente une requête à écrire (soit une réponse à une question)\n",
    "- Modifie uniquement la requête, pas ce qu'il y a autour\n",
    "- Quelques requêtes sont à compléter, les parties manquantes sont signalées par ?? \n",
    "- En cas d'erreur, cherche la raison dans le message affiché \n",
    "- Pour executer une requête : CTRL + Entrée "
   ]
  },
  {
   "cell_type": "markdown",
   "metadata": {},
   "source": [
    "## Configuration\n",
    "Exécute ces commandes (CTRL + X)\n",
    "\n",
    "Elles permettent de charger les données que nous allons utiliser"
   ]
  },
  {
   "cell_type": "code",
   "execution_count": null,
   "metadata": {},
   "outputs": [],
   "source": [
    "import pandas as p\n",
    "import sqlite3\n",
    "\n",
    "#Chargement des données depuis le CSV\n",
    "tv_shows = p.read_csv('dataset_ajc.csv', delimiter=';', encoding='utf-8')\n",
    "\n",
    "#Connection à la base de données et Chargement des données\n",
    "conn = sqlite3.connect(\"tv_shows.db\")\n",
    "tv_shows.to_sql('tv_shows', conn)"
   ]
  },
  {
   "cell_type": "markdown",
   "metadata": {},
   "source": [
    "## Prise en main\n",
    "Quelques requête simples pour prendre les choses en main"
   ]
  },
  {
   "cell_type": "markdown",
   "metadata": {},
   "source": [
    "#### Question 1 : Affiche tout le contenu de la table tv_shows"
   ]
  },
  {
   "cell_type": "code",
   "execution_count": null,
   "metadata": {},
   "outputs": [],
   "source": [
    "q = \"\"\"\n",
    "\n",
    "SELECT \n",
    "   *  \n",
    "FROM tv_shows\n",
    "    \n",
    "    \"\"\"\n",
    "    \n",
    "p.read_sql(q, conn)"
   ]
  },
  {
   "cell_type": "markdown",
   "metadata": {},
   "source": [
    "#### Question 2 : Affiche le nom de toutes les séries et épisodes"
   ]
  },
  {
   "cell_type": "code",
   "execution_count": null,
   "metadata": {},
   "outputs": [],
   "source": [
    "q = \"\"\"\n",
    "\n",
    "SELECT \n",
    "    titre_serie,\n",
    "    titre_episode \n",
    "FROM tv_shows\n",
    "    \n",
    "    \"\"\"\n",
    "    \n",
    "p.read_sql(q, conn)"
   ]
  },
  {
   "cell_type": "markdown",
   "metadata": {},
   "source": [
    "#### Question 3 : Affiche uniquement le nom des séries différentes et leur résumé"
   ]
  },
  {
   "cell_type": "code",
   "execution_count": null,
   "metadata": {},
   "outputs": [],
   "source": [
    "q = \"\"\"\n",
    "\n",
    "select DISTINCT\n",
    "    titre_serie,\n",
    "    resume_serie\n",
    "from tv_shows\n",
    "    \n",
    "    \"\"\"\n",
    "    \n",
    "p.read_sql(q, conn)"
   ]
  },
  {
   "cell_type": "markdown",
   "metadata": {},
   "source": [
    "#### Question 4 : Affiche le nom et le genre des séries commencées en 2018 (première diffusion)"
   ]
  },
  {
   "cell_type": "code",
   "execution_count": null,
   "metadata": {},
   "outputs": [],
   "source": [
    "q = \"\"\"\n",
    "\n",
    "SELECT DISTINCT\n",
    "    titre_serie,\n",
    "    genres_serie\n",
    "from TV_Shows\n",
    "WHERE annee_premiere_diffusion_serie = 2018\n",
    "    \n",
    "    \"\"\"\n",
    "    \n",
    "p.read_sql(q, conn)"
   ]
  },
  {
   "cell_type": "markdown",
   "metadata": {},
   "source": [
    "#### Question 5 : Affiche le nom des séries, le nom des épisodes et la note des épisodes qui durent moins de 40 minutes (<=) et on une note supérieure à 8.5"
   ]
  },
  {
   "cell_type": "code",
   "execution_count": null,
   "metadata": {},
   "outputs": [],
   "source": [
    "q = \"\"\"\n",
    "\n",
    "SELECT\n",
    "    titre_serie,\n",
    "    titre_episode,\n",
    "    note\n",
    "from TV_Shows\n",
    "WHERE duree <= 40\n",
    "    and note > 8.5\n",
    "    \n",
    "    \"\"\"\n",
    "    \n",
    "p.read_sql(q, conn)"
   ]
  },
  {
   "cell_type": "markdown",
   "metadata": {},
   "source": [
    "#### Question 6 : Affiche le nom et le genre des séries du genre 'comedy' ('comedie' doit être présent dans la liste des genres) (Utilise DISTINCT pour avoir uniquement les séries)"
   ]
  },
  {
   "cell_type": "code",
   "execution_count": null,
   "metadata": {},
   "outputs": [],
   "source": [
    "q = \"\"\"\n",
    "\n",
    "SELECT DISTINCT\n",
    "    titre_serie,\n",
    "    genres_serie\n",
    "from TV_Shows\n",
    "WHERE genres_serie like '%comedy%'\n",
    "    \n",
    "    \"\"\"\n",
    "    \n",
    "p.read_sql(q, conn)"
   ]
  },
  {
   "cell_type": "markdown",
   "metadata": {},
   "source": [
    "#### Question 7 : Affiche les épisodes (nom de l'épisode, nom de la série, durée et note des épisodes) triés par durée décroissante, ajoute LIMIT 10 pour avoir le top 10"
   ]
  },
  {
   "cell_type": "code",
   "execution_count": null,
   "metadata": {},
   "outputs": [],
   "source": [
    "q = \"\"\"\n",
    "\n",
    "SELECT\n",
    "    titre_serie,\n",
    "    titre_episode,\n",
    "    duree,\n",
    "    note\n",
    "from TV_Shows\n",
    "ORDER BY duree DESC\n",
    "LIMIT 10\n",
    "    \n",
    "    \"\"\"\n",
    "    \n",
    "p.read_sql(q, conn)"
   ]
  },
  {
   "cell_type": "markdown",
   "metadata": {},
   "source": [
    "#### Question 8 : Affiche la somme des durées des épisodes par séries (= le temps total de la série)"
   ]
  },
  {
   "cell_type": "code",
   "execution_count": null,
   "metadata": {},
   "outputs": [],
   "source": [
    "q = \"\"\"\n",
    "\n",
    "SELECT\n",
    "    titre_serie,\n",
    "    sum(duree)\n",
    "FROM TV_Shows\n",
    "group BY titre_serie\n",
    "    \n",
    "    \"\"\"\n",
    "    \n",
    "p.read_sql(q, conn)"
   ]
  },
  {
   "cell_type": "markdown",
   "metadata": {},
   "source": [
    "#### Question 9 : Affiche la note moyenne de chaque série et classe les par ordre décroissant"
   ]
  },
  {
   "cell_type": "code",
   "execution_count": null,
   "metadata": {},
   "outputs": [],
   "source": [
    "q = \"\"\"\n",
    "\n",
    "SELECT\n",
    "    titre_serie,\n",
    "    avg(note) as n\n",
    "FROM TV_Shows\n",
    "group BY titre_serie\n",
    "ORDER BY n desc\n",
    "    \n",
    "    \"\"\"\n",
    "    \n",
    "p.read_sql(q, conn)"
   ]
  },
  {
   "cell_type": "markdown",
   "metadata": {},
   "source": [
    "## Un petit peu plus difficile"
   ]
  },
  {
   "cell_type": "markdown",
   "metadata": {},
   "source": [
    "#### Question 10 : Combien de saisons de la série Friends ont été diffusées ?"
   ]
  },
  {
   "cell_type": "code",
   "execution_count": null,
   "metadata": {},
   "outputs": [],
   "source": [
    "q = \"\"\"\n",
    "\n",
    "SELECT\n",
    "    max(numero_saison)\n",
    "FROM TV_Shows\n",
    "WHERE titre_serie = 'Friends'\n",
    "    \n",
    "    \"\"\"\n",
    "    \n",
    "p.read_sql(q, conn)"
   ]
  },
  {
   "cell_type": "markdown",
   "metadata": {},
   "source": [
    "#### Question 11 : Quel épisode de la saison 2 de Riverdale a la meilleure note ?"
   ]
  },
  {
   "cell_type": "code",
   "execution_count": null,
   "metadata": {},
   "outputs": [],
   "source": [
    "q = \"\"\"\n",
    "\n",
    "SELECT\n",
    "    numero_episode, \n",
    "    note\n",
    "FROM TV_Shows\n",
    "WHERE titre_serie = 'Riverdale'\n",
    "    AND numero_saison = 2\n",
    "order by note desc\n",
    "limit 1\n",
    "    \n",
    "    \"\"\"\n",
    "    \n",
    "p.read_sql(q, conn)"
   ]
  },
  {
   "cell_type": "markdown",
   "metadata": {},
   "source": [
    "#### Question 12 : Combien y a t'il de série(s) espagnole(s) ?"
   ]
  },
  {
   "cell_type": "code",
   "execution_count": null,
   "metadata": {},
   "outputs": [],
   "source": [
    "q = \"\"\"\n",
    "\n",
    "SELECT\n",
    "    DISTINCT titre_serie\n",
    "FROM TV_Shows\n",
    "WHERE pays = 'es'\n",
    "    \n",
    "    \"\"\"\n",
    "    \n",
    "p.read_sql(q, conn)"
   ]
  },
  {
   "cell_type": "markdown",
   "metadata": {},
   "source": [
    "#### Question 13 : Combien de jours faut-il pour regarder tous les épisodes de Game of Thrones ?"
   ]
  },
  {
   "cell_type": "code",
   "execution_count": null,
   "metadata": {},
   "outputs": [],
   "source": [
    "q = \"\"\"\n",
    "\n",
    "SELECT\n",
    "    sum(duree) as minutes,\n",
    "    cast(sum(duree) as float)/(60*24) as days\n",
    "FROM TV_Shows\n",
    "WHERE titre_serie = 'Game of Thrones'\n",
    "    \n",
    "    \"\"\"\n",
    "    \n",
    "p.read_sql(q, conn)"
   ]
  },
  {
   "cell_type": "markdown",
   "metadata": {},
   "source": [
    "#### Question 14 : Quelle série de genre \"fantasy\" a une note globale moyenne de 8.00 ?"
   ]
  },
  {
   "cell_type": "code",
   "execution_count": null,
   "metadata": {},
   "outputs": [],
   "source": [
    "q = \"\"\"\n",
    "\n",
    "SELECT\n",
    "    titre_serie,\n",
    "    avg(note)\n",
    "FROM TV_Shows\n",
    "WHERE genres_serie like '%fantasy%'\n",
    "group by titre_serie\n",
    "\n",
    "    \"\"\"\n",
    "    \n",
    "p.read_sql(q, conn)"
   ]
  },
  {
   "cell_type": "markdown",
   "metadata": {},
   "source": [
    "#### Question 15 : Quand a été diffusé l'épisode de The Flash qui a eu la meilleure note ?"
   ]
  },
  {
   "cell_type": "code",
   "execution_count": null,
   "metadata": {},
   "outputs": [],
   "source": [
    "q = \"\"\"\n",
    "\n",
    "SELECT\n",
    "    premiere_diffusion_episode,\n",
    "    note\n",
    "FROM TV_Shows\n",
    "WHERE titre_serie = 'The Flash'\n",
    "order by note desc\n",
    "    \n",
    "    \"\"\"\n",
    "    \n",
    "p.read_sql(q, conn)"
   ]
  },
  {
   "cell_type": "markdown",
   "metadata": {},
   "source": [
    "#### Question 16 : Quelle série a le plus grand écart de note? (différence entre la note minimale et maximale des épisodes)"
   ]
  },
  {
   "cell_type": "code",
   "execution_count": null,
   "metadata": {},
   "outputs": [],
   "source": [
    "q = \"\"\"\n",
    "\n",
    "SELECT\n",
    "    titre_serie,\n",
    "    max(note) - min(note) as ecart\n",
    "FROM TV_Shows\n",
    "group by titre_serie \n",
    "order by ecart desc\n",
    "   \n",
    "    \"\"\"\n",
    "    \n",
    "p.read_sql(q, conn)"
   ]
  }
 ],
 "metadata": {
  "kernelspec": {
   "display_name": "Python 3",
   "language": "python",
   "name": "python3"
  },
  "language_info": {
   "codemirror_mode": {
    "name": "ipython",
    "version": 3
   },
   "file_extension": ".py",
   "mimetype": "text/x-python",
   "name": "python",
   "nbconvert_exporter": "python",
   "pygments_lexer": "ipython3",
   "version": "3.6.5"
  }
 },
 "nbformat": 4,
 "nbformat_minor": 2
}
